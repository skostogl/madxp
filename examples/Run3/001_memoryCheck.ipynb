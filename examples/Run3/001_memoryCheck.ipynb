{
 "cells": [
  {
   "cell_type": "code",
   "execution_count": 3,
   "metadata": {},
   "outputs": [],
   "source": [
    "from cpymad.madx import Madx"
   ]
  },
  {
   "cell_type": "code",
   "execution_count": 18,
   "metadata": {},
   "outputs": [
    {
     "name": "stdout",
     "output_type": "stream",
     "text": [
      "\n",
      "  ++++++++++++++++++++++++++++++++++++++++++++\n",
      "  +     MAD-X 5.05.01  (64 bit, Linux)       +\n",
      "  + Support: mad@cern.ch, http://cern.ch/mad +\n",
      "  + Release   date: 2019.06.07               +\n",
      "  + Execution date: 2019.12.10 12:35:31      +\n",
      "  ++++++++++++++++++++++++++++++++++++++++++++\n"
     ]
    }
   ],
   "source": [
    "madx=Madx()"
   ]
  },
  {
   "cell_type": "code",
   "execution_count": 19,
   "metadata": {},
   "outputs": [
    {
     "data": {
      "text/plain": [
       "'/afs/cern.ch/work/s/sterbini/pysixtrack/examples/load_from_mad/Run3'"
      ]
     },
     "execution_count": 19,
     "metadata": {},
     "output_type": "execute_result"
    }
   ],
   "source": [
    "pwd"
   ]
  },
  {
   "cell_type": "code",
   "execution_count": 20,
   "metadata": {},
   "outputs": [
    {
     "name": "stdout",
     "output_type": "stream",
     "text": [
      "! ## Simple make thin of Run3\n",
      "\n",
      "! The purpose of this file is to compute the Q4/Q5 feedforward for the wire.\n",
      "\n",
      "!\n",
      "\n",
      "! ## Contributors\n",
      "\n",
      "! **S. Fartoukh**\n",
      "\n",
      "\n",
      "\n",
      "! ## Make the links\n",
      "\n",
      "option, -echo, -info, -warn;\n",
      "\n",
      "enter Twiss module\n",
      "  \n",
      "iteration:   1 error:   1.922638E-03 deltap:   0.000000E+00\n",
      "orbit:  -4.773227E-04 -2.769850E-04  1.029213E-05  2.150577E-04  0.000000E+00  0.000000E+00\n",
      "  \n",
      "iteration:   2 error:   1.651655E-04 deltap:   0.000000E+00\n",
      "orbit:  -5.495790E-04 -3.120781E-06  2.135562E-08  1.691450E-04  0.000000E+00  0.000000E+00\n",
      "  \n",
      "iteration:   3 error:   2.704573E-06 deltap:   0.000000E+00\n",
      "orbit:  -5.500001E-04 -1.321090E-10 -1.273817E-12  1.691730E-04  0.000000E+00  0.000000E+00\n",
      "  \n",
      "iteration:   4 error:   4.815841E-10 deltap:   0.000000E+00\n",
      "orbit:  -5.500000E-04  3.101275E-12 -9.775297E-14  1.691730E-04  0.000000E+00  0.000000E+00\n",
      "\n",
      "++++++ table: summ\n",
      "\n",
      "            length             orbit5               alfa            gammatr \n",
      "        26658.8832                 -0    0.0003482657301        53.58517204 \n",
      "\n",
      "                q1                dq1            betxmax              dxmax \n",
      "        62.3099993        1.187670368        9660.549341        3.365788119 \n",
      "\n",
      "             dxrms             xcomax             xcorms                 q2 \n",
      "        1.53263485      0.01214590239    0.0008682493176        60.32000015 \n",
      "\n",
      "               dq2            betymax              dymax              dyrms \n",
      "      0.9743418346         9660.57602        3.645603932       0.4276501516 \n",
      "\n",
      "            ycomax             ycorms             deltap            synch_1 \n",
      "    0.009716721847    0.0007560840714                  0                  0 \n",
      "\n",
      "           synch_2            synch_3            synch_4            synch_5 \n",
      "                 0                  0                  0                  0 \n",
      "\n",
      "            nflips \n",
      "                 0 \n",
      "enter Twiss module\n",
      "  \n",
      "iteration:   1 error:   1.943974E-03 deltap:   0.000000E+00\n",
      "orbit:   5.568041E-04  1.189652E-05  1.335293E-06 -1.695497E-04  0.000000E+00  0.000000E+00\n",
      "  \n",
      "iteration:   2 error:   4.159922E-05 deltap:   0.000000E+00\n",
      "orbit:   5.500031E-04  4.583346E-09 -3.825176E-09 -1.691606E-04  0.000000E+00  0.000000E+00\n",
      "  \n",
      "iteration:   3 error:   1.802513E-08 deltap:   0.000000E+00\n",
      "orbit:   5.500000E-04 -3.679805E-11  1.591467E-13 -1.691730E-04  0.000000E+00  0.000000E+00\n",
      "\n",
      "++++++ table: summ\n",
      "\n",
      "            length             orbit5               alfa            gammatr \n",
      "        26658.8832                 -0    0.0003480376399        53.60272797 \n",
      "\n",
      "                q1                dq1            betxmax              dxmax \n",
      "       62.30999922       0.9060535437        9660.592562         2.82355788 \n",
      "\n",
      "             dxrms             xcomax             xcorms                 q2 \n",
      "       1.514168497      0.01214590185    0.0008767350455        60.32000014 \n",
      "\n",
      "               dq2            betymax              dymax              dyrms \n",
      "       2.127073978        9660.573803        3.257448653       0.4356261056 \n",
      "\n",
      "            ycomax             ycorms             deltap            synch_1 \n",
      "    0.009716721861    0.0007570274617                  0                  0 \n",
      "\n",
      "           synch_2            synch_3            synch_4            synch_5 \n",
      "                 0                  0                  0                  0 \n",
      "\n",
      "            nflips \n",
      "                 0 \n",
      "makethin: style chosen : teapot\n",
      "makethin: slicing sequence : lhcb1\n",
      "enter Twiss module\n",
      "  \n",
      "iteration:   1 error:   1.922524E-03 deltap:   0.000000E+00\n",
      "orbit:  -4.773402E-04 -2.769786E-04  1.029389E-05  2.150968E-04  0.000000E+00  0.000000E+00\n",
      "  \n",
      "iteration:   2 error:   1.651320E-04 deltap:   0.000000E+00\n",
      "orbit:  -5.495754E-04 -3.120868E-06  2.320553E-08  1.691495E-04  0.000000E+00  0.000000E+00\n",
      "  \n",
      "iteration:   3 error:   2.705534E-06 deltap:   0.000000E+00\n",
      "orbit:  -5.499960E-04 -4.111956E-10  1.791501E-09  1.691774E-04  0.000000E+00  0.000000E+00\n",
      "  \n",
      "iteration:   4 error:   4.816541E-10 deltap:   0.000000E+00\n",
      "orbit:  -5.499959E-04 -2.760681E-10  1.792675E-09  1.691774E-04  0.000000E+00  0.000000E+00\n",
      "\n",
      "++++++ table: summ\n",
      "\n",
      "            length             orbit5               alfa            gammatr \n",
      "        26658.8832                 -0    0.0003482655787        53.58518368 \n",
      "\n",
      "                q1                dq1            betxmax              dxmax \n",
      "       62.30997335        1.112836009        9707.809866        3.385833727 \n",
      "\n",
      "             dxrms             xcomax             xcorms                 q2 \n",
      "       1.429151272      0.01215634743     0.002008251586        60.31992538 \n",
      "\n",
      "               dq2            betymax              dymax              dyrms \n",
      "      0.9241191888        9709.188152        3.655481723        0.664209762 \n",
      "\n",
      "            ycomax             ycorms             deltap            synch_1 \n",
      "    0.009724991407     0.001750029564                  0                  0 \n",
      "\n",
      "           synch_2            synch_3            synch_4            synch_5 \n",
      "                 0                  0                  0                  0 \n",
      "\n",
      "            nflips \n",
      "                 0 \n",
      "makethin: style chosen : teapot\n",
      "makethin: slicing sequence : lhcb2\n",
      "enter Twiss module\n",
      "  \n",
      "iteration:   1 error:   1.944055E-03 deltap:   0.000000E+00\n",
      "orbit:   5.568192E-04  1.190371E-05  1.336552E-06 -1.695582E-04  0.000000E+00  0.000000E+00\n",
      "  \n",
      "iteration:   2 error:   4.167103E-05 deltap:   0.000000E+00\n",
      "orbit:   5.500025E-04  1.304432E-09 -2.271846E-09 -1.691687E-04  0.000000E+00  0.000000E+00\n",
      "  \n",
      "iteration:   3 error:   1.807251E-08 deltap:   0.000000E+00\n",
      "orbit:   5.499993E-04 -3.317952E-09  1.561774E-09 -1.691811E-04  0.000000E+00  0.000000E+00\n",
      "\n",
      "++++++ table: summ\n",
      "\n",
      "            length             orbit5               alfa            gammatr \n",
      "        26658.8832                 -0    0.0003480374858        53.60273983 \n",
      "\n",
      "                q1                dq1            betxmax              dxmax \n",
      "       62.30997364       0.8304245253        9708.822586        2.851755494 \n",
      "\n",
      "             dxrms             xcomax             xcorms                 q2 \n",
      "        1.39649685      0.01215621699     0.002006430757        60.31992523 \n",
      "\n",
      "               dq2            betymax              dymax              dyrms \n",
      "       2.079083628        9708.512791        3.266462588       0.6656402754 \n",
      "\n",
      "            ycomax             ycorms             deltap            synch_1 \n",
      "    0.009725132974     0.001747957788                  0                  0 \n",
      "\n",
      "           synch_2            synch_3            synch_4            synch_5 \n",
      "                 0                  0                  0                  0 \n",
      "\n",
      "            nflips \n",
      "                 0 \n",
      "\n",
      "  Number of warnings: 0\n",
      "\n",
      "  ++++++++++++++++++++++++++++++++++++++++++++\n",
      "  +          MAD-X finished normally         +\n",
      "  ++++++++++++++++++++++++++++++++++++++++++++\n"
     ]
    },
    {
     "data": {
      "text/plain": [
       "True"
      ]
     },
     "execution_count": 20,
     "metadata": {},
     "output_type": "execute_result"
    }
   ],
   "source": [
    "madx.input('call file=input_thin.madx;')"
   ]
  },
  {
   "cell_type": "code",
   "execution_count": 21,
   "metadata": {},
   "outputs": [],
   "source": [
    "del madx"
   ]
  },
  {
   "cell_type": "code",
   "execution_count": 22,
   "metadata": {},
   "outputs": [
    {
     "data": {
      "text/plain": [
       "3081"
      ]
     },
     "execution_count": 22,
     "metadata": {},
     "output_type": "execute_result"
    }
   ],
   "source": []
  },
  {
   "cell_type": "code",
   "execution_count": null,
   "metadata": {},
   "outputs": [],
   "source": []
  }
 ],
 "metadata": {
  "kernelspec": {
   "display_name": "Python 3",
   "language": "python",
   "name": "python3"
  },
  "language_info": {
   "codemirror_mode": {
    "name": "ipython",
    "version": 3
   },
   "file_extension": ".py",
   "mimetype": "text/x-python",
   "name": "python",
   "nbconvert_exporter": "python",
   "pygments_lexer": "ipython3",
   "version": "3.6.5"
  }
 },
 "nbformat": 4,
 "nbformat_minor": 2
}
