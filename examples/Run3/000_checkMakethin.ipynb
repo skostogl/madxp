{
 "cells": [
  {
   "cell_type": "code",
   "execution_count": 1,
   "metadata": {},
   "outputs": [],
   "source": [
    "import madxp\n",
    "import cl2pd\n",
    "import pandas as pd\n",
    "import numpy as np\n",
    "import copy # deepcopy of dictionaries\n",
    "import gc  # garbage collector to force to free memory"
   ]
  },
  {
   "cell_type": "code",
   "execution_count": 2,
   "metadata": {},
   "outputs": [],
   "source": [
    "import matplotlib.pyplot as plt\n",
    "get_ipython().magic('matplotlib inline')\n",
    "%config InlineBackend.figure_format = 'retina' # retina display"
   ]
  },
  {
   "cell_type": "code",
   "execution_count": 20,
   "metadata": {},
   "outputs": [
    {
     "name": "stdout",
     "output_type": "stream",
     "text": [
      "2\n",
      "Simple make thin of Run3\n",
      "Contributors\n",
      "Make the links\n",
      "Call sequence     \n",
      "Call optics and crossing angle\n",
      "Python: settings\n",
      "Make B1 thin\n",
      "Python: Test B1\n",
      "Make B2 thin\n",
      "Python: Test B2\n",
      "Profiling DF saved.\n",
      "4\n",
      "Simple make thin of Run3\n",
      "Contributors\n",
      "Make the links\n",
      "Call sequence     \n",
      "Call optics and crossing angle\n",
      "Python: settings\n",
      "Make B1 thin\n",
      "Python: Test B1\n",
      "Make B2 thin\n",
      "Python: Test B2\n",
      "Profiling DF saved.\n",
      "6\n",
      "Simple make thin of Run3\n",
      "Contributors\n",
      "Make the links\n",
      "Call sequence     \n",
      "Call optics and crossing angle\n",
      "Python: settings\n",
      "Make B1 thin\n",
      "Python: Test B1\n",
      "Make B2 thin\n",
      "Python: Test B2\n",
      "Profiling DF saved.\n",
      "8\n",
      "Simple make thin of Run3\n",
      "Contributors\n",
      "Make the links\n",
      "Call sequence     \n",
      "Call optics and crossing angle\n",
      "Python: settings\n",
      "Make B1 thin\n",
      "Python: Test B1\n",
      "Make B2 thin\n",
      "Python: Test B2\n",
      "Profiling DF saved.\n",
      "2\n",
      "Simple make thin of Run3\n",
      "Contributors\n",
      "Make the links\n",
      "Call sequence     \n",
      "Call optics and crossing angle\n",
      "Python: settings\n",
      "Make B1 thin\n",
      "Python: Test B1\n",
      "Make B2 thin\n",
      "Python: Test B2\n",
      "Profiling DF saved.\n",
      "4\n",
      "Simple make thin of Run3\n",
      "Contributors\n",
      "Make the links\n",
      "Call sequence     \n",
      "Call optics and crossing angle\n",
      "Python: settings\n",
      "Make B1 thin\n",
      "Python: Test B1\n",
      "Make B2 thin\n",
      "Python: Test B2\n",
      "Profiling DF saved.\n",
      "6\n",
      "Simple make thin of Run3\n",
      "Contributors\n",
      "Make the links\n",
      "Call sequence     \n",
      "Call optics and crossing angle\n",
      "Python: settings\n",
      "Make B1 thin\n",
      "Python: Test B1\n",
      "Make B2 thin\n",
      "Python: Test B2\n",
      "Profiling DF saved.\n",
      "8\n",
      "Simple make thin of Run3\n",
      "Contributors\n",
      "Make the links\n",
      "Call sequence     \n",
      "Call optics and crossing angle\n",
      "Python: settings\n",
      "Make B1 thin\n",
      "Python: Test B1\n",
      "Make B2 thin\n",
      "Python: Test B2\n",
      "Profiling DF saved.\n"
     ]
    }
   ],
   "source": [
    "myList=[]\n",
    "pythonData={}\n",
    "slicefactorRange=np.arange(2,9,2)\n",
    "\n",
    "pythonData['rbarc']='true'\n",
    "for makedipedgevalue in [0,1]:\n",
    "    pythonData['makedipedgevalue']=makedipedgevalue\n",
    "    for slicefactor in slicefactorRange:\n",
    "        print(slicefactor)\n",
    "        pythonData['slicefactor']=slicefactor\n",
    "        madxp.madxp('/afs/cern.ch/work/s/sterbini/pysixtrack/examples/load_from_mad/Run3/input_thin.madx', pythonData=pythonData)\n",
    "        myList.append(copy.deepcopy(pythonData)) # to append the pythonData dictionary\n",
    "        gc.collect() # to free memory"
   ]
  },
  {
   "cell_type": "code",
   "execution_count": 21,
   "metadata": {},
   "outputs": [],
   "source": [
    "myDF=pd.DataFrame(myList)\n",
    "myDF['q1 of B1']=myDF['B1summ'].apply(lambda x: x['q1'].values[0])\n",
    "myDF['q2 of B1']=myDF['B1summ'].apply(lambda x: x['q2'].values[0])\n",
    "myDF['q1 of B2']=myDF['B2summ'].apply(lambda x: x['q1'].values[0])\n",
    "myDF['q2 of B2']=myDF['B2summ'].apply(lambda x: x['q2'].values[0])"
   ]
  },
  {
   "cell_type": "code",
   "execution_count": 30,
   "metadata": {},
   "outputs": [
    {
     "data": {
      "image/png": "[encoded data removed]",
      "text/plain": [
       "<Figure size 432x288 with 1 Axes>"
      ]
     },
     "metadata": {
      "image/png": {
       "height": 248,
       "width": 384
      },
      "needs_background": "light"
     },
     "output_type": "display_data"
    }
   ],
   "source": [
    "aux=myDF[myDF['makedipedgevalue']==0]\n",
    "plt.plot(aux['slicefactor'], aux['q1 of B1']-62, 'o-b')\n",
    "plt.plot(aux['slicefactor'], aux['q2 of B1']-60, 's-r')\n",
    "aux=myDF[myDF['makedipedgevalue']==1]\n",
    "plt.plot(aux['slicefactor'], aux['q1 of B1']-62, 'o:b')\n",
    "plt.plot(aux['slicefactor'], aux['q2 of B1']-60, 's:r')\n",
    "plt.plot(aux['slicefactor'],.31+0*aux['slicefactor'],'b-.')\n",
    "plt.plot(aux['slicefactor'],.32+0*aux['slicefactor'],'r-.')\n",
    "plt.grid(True)"
   ]
  }
 ],
 "metadata": {
  "kernelspec": {
   "display_name": "Python 3",
   "language": "python",
   "name": "python3"
  },
  "language_info": {
   "codemirror_mode": {
    "name": "ipython",
    "version": 3
   },
   "file_extension": ".py",
   "mimetype": "text/x-python",
   "name": "python",
   "nbconvert_exporter": "python",
   "pygments_lexer": "ipython3",
   "version": "3.6.5"
  }
 },
 "nbformat": 4,
 "nbformat_minor": 2
}
